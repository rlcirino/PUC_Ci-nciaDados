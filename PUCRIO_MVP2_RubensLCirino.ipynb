{
  "nbformat": 4,
  "nbformat_minor": 0,
  "metadata": {
    "colab": {
      "provenance": [],
      "include_colab_link": true
    },
    "kernelspec": {
      "name": "python3",
      "display_name": "Python 3"
    },
    "language_info": {
      "name": "python"
    }
  },
  "cells": [
    {
      "cell_type": "markdown",
      "metadata": {
        "id": "view-in-github",
        "colab_type": "text"
      },
      "source": [
        "<a href=\"https://colab.research.google.com/github/rlcirino/PUC_Ci-nciaDados/blob/main/PUCRIO_MVP2_RubensLCirino.ipynb\" target=\"_parent\"><img src=\"https://colab.research.google.com/assets/colab-badge.svg\" alt=\"Open In Colab\"/></a>"
      ]
    },
    {
      "cell_type": "markdown",
      "source": [
        "DEFINIÇÃO DO PROBLEMA\n",
        "\n",
        "O dataset usado neste projeto será o Wholesale customers, proveniente do UCI Machine Learning Repository. O presente dataset é um subset de uma base de dados maior referida em Abreu, N. (2011). “Analise do perfil do cliente Recheio e desenvolvimento de um sistema promocional” – Mestrado em Marketing , ISCTE-IUL, Lisboa. Seu objetivo é mostrar o volume anual de vendas de um comércio atacadista, expresso em unidades monetárias, de diversas categorias de produtos. Para mais detalhes sobre o dataset, consulte: https://archive.ics.uci.edu/ml/datasets/Wholesale+customers# Informações sobre os atributos:\n",
        "\n",
        "Canal de Venda – qual o tipo de canal de venda foi usado para a compra: a. Horeca (Hotel/Restaurante/Café) – pessoa jurídica b. Varejo – pessoa física;\n",
        "Região: a. Lisboa b. Porto c. Outra Região;\n",
        "Produtos frescos – são as vendas anuais em unidades de dinheiro com produtos frescos;\n",
        "Laticínios – são as vendas anuais em unidades de dinheiro de laticínios;\n",
        "Produtos de mercado – são as vendas anuais em unidades de dinheiro de produtos de mercado;\n",
        "Congelados – são as vendas anuais em unidades de dinheiro de congelados;\n",
        "Higiene e Limpeza – são as vendas anuais em unidades de dinheiro em produtos de higiene e limpeza;\n",
        "Delicatessen – são as vendas anuais em unidades de dinheiro de produtos classificados como delicatessen;"
      ],
      "metadata": {
        "id": "aLgMLKRvjnMZ"
      }
    },
    {
      "cell_type": "code",
      "execution_count": null,
      "metadata": {
        "id": "tAKQ7IXMiiKz"
      },
      "outputs": [],
      "source": [
        "# Configuração para não exibir os warnings\n",
        "import warnings\n",
        "warnings.filterwarnings(\"ignore\")\n",
        "\n",
        "# Inicialmente, vamos fazer a importação das bibliotecas que usaremos no nosso código Python\n",
        "# importação do Pandas\n",
        "import pandas as pd\n",
        "import numpy as np\n",
        "# importação do pyplot\n",
        "import matplotlib.pyplot as plt\n",
        "\n",
        "from sklearn.model_selection import train_test_split # para particionar em bases de treino e teste (holdout)\n",
        "from sklearn.model_selection import KFold # para preparar os folds da validação cruzada\n",
        "from sklearn.model_selection import cross_val_score # para executar a validação cruzada\n",
        "from sklearn.metrics import mean_squared_error # métrica de avaliação MSE\n",
        "from sklearn.linear_model import LinearRegression # algoritmo Regressão Linear\n",
        "from sklearn.linear_model import Ridge # algoritmo Regularização Ridge\n",
        "from sklearn.linear_model import Lasso # algoritmo Regularização Lasso\n",
        "from sklearn.neighbors import KNeighborsRegressor # algoritmo KNN\n",
        "from sklearn.tree import DecisionTreeRegressor # algoritmo Árvore de Regressão\n",
        "from sklearn.metrics import accuracy_score # para a exibição da acurácia do modelo\n",
        "from sklearn.neighbors import KNeighborsClassifier # algoritmo KNN\n",
        "from sklearn.tree import DecisionTreeClassifier # algoritmo Árvore de Classificação\n",
        "from sklearn.naive_bayes import GaussianNB # algoritmo Naive Bayes\n",
        "from sklearn.svm import SVC # algoritmo SVM\n",
        "from sklearn.svm import SVR # algoritmo SVM\n",
        "\n",
        "from sklearn.preprocessing import StandardScaler # padronização\n",
        "from sklearn.preprocessing import MinMaxScaler # normalização\n",
        "from sklearn.model_selection import StratifiedKFold # fornece índices de treino/teste\n",
        "from sklearn.model_selection import GridSearchCV # Pesquisa exaustiva sobre valores de parâmetros especificados para um estimador.\n",
        "from sklearn.pipeline import Pipeline # meta estimador\n",
        "from sklearn.linear_model import LogisticRegression # regressão logística\n",
        "from sklearn.ensemble import BaggingClassifier   # Classificador Bagging\n",
        "from sklearn.ensemble import RandomForestClassifier # classificador random forest\n",
        "from sklearn.ensemble import ExtraTreesClassifier  # classificador extra tree\n",
        "from sklearn.ensemble import VotingClassifier    # classificador voto\n",
        "from sklearn.ensemble import AdaBoostClassifier  # classificador AdaBoost\n",
        "from sklearn.ensemble import GradientBoostingClassifier # classificador Boosting gradient"
      ]
    },
    {
      "cell_type": "markdown",
      "source": [
        "2) CARGA DE DADOS\n",
        "\n",
        "Iremos usar o pacote Pandas (Python Data Analysis Library) para carregar de um arquivo .csv sem cabeçalho disponível online.\n",
        "\n",
        "Com o dataset carregado, iremos explorá-lo um pouco."
      ],
      "metadata": {
        "id": "FlsKWBFQkkFY"
      }
    },
    {
      "cell_type": "code",
      "source": [
        "# importação do dataset\n",
        "# importando dados uma url para um dataframe\n",
        "\n",
        "# Há uma informação que é relevante com relação ao dataset que foi lido. Originalmente, ele se encontra como Objeto (string) e com os nomes das colunas na linha zero.\n",
        "# Fizemos o carregamento do dataset retirando a linha zero que continha os nomes das colunas e fizemos uma conversão de tipo de todo o dataset de objeto (string) para inteiro.\n",
        "\n",
        "# url a importar\n",
        "url_dados = 'https://archive.ics.uci.edu/ml/machine-learning-databases/00292/Wholesale%20customers%20data.csv'\n",
        "\n",
        "# labels dos atributos do dataset\n",
        "labels_atributos = ['Canal de Venda', 'Região', 'Produtos Frescos', 'Laticínios', 'Produtos do Mercado', 'Congelados', 'Higiene & Limpeza', 'Delicatessen']\n",
        "\n",
        "# carga do dataset através da url\n",
        "mercearia = pd.read_csv(url_dados, names=labels_atributos, header = 0)"
      ],
      "metadata": {
        "id": "Xd7qdxm8kl25"
      },
      "execution_count": null,
      "outputs": []
    },
    {
      "cell_type": "code",
      "source": [
        "# verificando que mercearia é um dataframe\n",
        "type(mercearia)"
      ],
      "metadata": {
        "colab": {
          "base_uri": "https://localhost:8080/"
        },
        "id": "-R1kiaRjmkaa",
        "outputId": "9c441e19-cd5e-420f-8291-e6db4a4e8b13"
      },
      "execution_count": null,
      "outputs": [
        {
          "output_type": "execute_result",
          "data": {
            "text/plain": [
              "pandas.core.frame.DataFrame"
            ]
          },
          "metadata": {},
          "execution_count": 3
        }
      ]
    },
    {
      "cell_type": "code",
      "source": [
        "# Apresentação das 5 linhas iniciais e finais do dataset\n",
        "# Na apresentação das 5 primeiras linhas e das últimas 5 linhas, verificamos que só aparece a região 3. Talvez isso indique a necessidade de uma reformulação no atributo \"Região\".\n",
        "\n",
        "display (mercearia)"
      ],
      "metadata": {
        "colab": {
          "base_uri": "https://localhost:8080/",
          "height": 423
        },
        "id": "BlM2WrCrqGMb",
        "outputId": "c046f41d-ca7b-4f4d-80a5-50add442cb47"
      },
      "execution_count": null,
      "outputs": [
        {
          "output_type": "display_data",
          "data": {
            "text/plain": [
              "     Canal de Venda  Região  Produtos Frescos  Laticínios  \\\n",
              "0                 2       3             12669        9656   \n",
              "1                 2       3              7057        9810   \n",
              "2                 2       3              6353        8808   \n",
              "3                 1       3             13265        1196   \n",
              "4                 2       3             22615        5410   \n",
              "..              ...     ...               ...         ...   \n",
              "435               1       3             29703       12051   \n",
              "436               1       3             39228        1431   \n",
              "437               2       3             14531       15488   \n",
              "438               1       3             10290        1981   \n",
              "439               1       3              2787        1698   \n",
              "\n",
              "     Produtos do Mercado  Congelados  Higiene & Limpeza  Delicatessen  \n",
              "0                   7561         214               2674          1338  \n",
              "1                   9568        1762               3293          1776  \n",
              "2                   7684        2405               3516          7844  \n",
              "3                   4221        6404                507          1788  \n",
              "4                   7198        3915               1777          5185  \n",
              "..                   ...         ...                ...           ...  \n",
              "435                16027       13135                182          2204  \n",
              "436                  764        4510                 93          2346  \n",
              "437                30243         437              14841          1867  \n",
              "438                 2232        1038                168          2125  \n",
              "439                 2510          65                477            52  \n",
              "\n",
              "[440 rows x 8 columns]"
            ],
            "text/html": [
              "\n",
              "\n",
              "  <div id=\"df-e53efcdb-f933-4072-a59e-9ce0ff3188c4\">\n",
              "    <div class=\"colab-df-container\">\n",
              "      <div>\n",
              "<style scoped>\n",
              "    .dataframe tbody tr th:only-of-type {\n",
              "        vertical-align: middle;\n",
              "    }\n",
              "\n",
              "    .dataframe tbody tr th {\n",
              "        vertical-align: top;\n",
              "    }\n",
              "\n",
              "    .dataframe thead th {\n",
              "        text-align: right;\n",
              "    }\n",
              "</style>\n",
              "<table border=\"1\" class=\"dataframe\">\n",
              "  <thead>\n",
              "    <tr style=\"text-align: right;\">\n",
              "      <th></th>\n",
              "      <th>Canal de Venda</th>\n",
              "      <th>Região</th>\n",
              "      <th>Produtos Frescos</th>\n",
              "      <th>Laticínios</th>\n",
              "      <th>Produtos do Mercado</th>\n",
              "      <th>Congelados</th>\n",
              "      <th>Higiene &amp; Limpeza</th>\n",
              "      <th>Delicatessen</th>\n",
              "    </tr>\n",
              "  </thead>\n",
              "  <tbody>\n",
              "    <tr>\n",
              "      <th>0</th>\n",
              "      <td>2</td>\n",
              "      <td>3</td>\n",
              "      <td>12669</td>\n",
              "      <td>9656</td>\n",
              "      <td>7561</td>\n",
              "      <td>214</td>\n",
              "      <td>2674</td>\n",
              "      <td>1338</td>\n",
              "    </tr>\n",
              "    <tr>\n",
              "      <th>1</th>\n",
              "      <td>2</td>\n",
              "      <td>3</td>\n",
              "      <td>7057</td>\n",
              "      <td>9810</td>\n",
              "      <td>9568</td>\n",
              "      <td>1762</td>\n",
              "      <td>3293</td>\n",
              "      <td>1776</td>\n",
              "    </tr>\n",
              "    <tr>\n",
              "      <th>2</th>\n",
              "      <td>2</td>\n",
              "      <td>3</td>\n",
              "      <td>6353</td>\n",
              "      <td>8808</td>\n",
              "      <td>7684</td>\n",
              "      <td>2405</td>\n",
              "      <td>3516</td>\n",
              "      <td>7844</td>\n",
              "    </tr>\n",
              "    <tr>\n",
              "      <th>3</th>\n",
              "      <td>1</td>\n",
              "      <td>3</td>\n",
              "      <td>13265</td>\n",
              "      <td>1196</td>\n",
              "      <td>4221</td>\n",
              "      <td>6404</td>\n",
              "      <td>507</td>\n",
              "      <td>1788</td>\n",
              "    </tr>\n",
              "    <tr>\n",
              "      <th>4</th>\n",
              "      <td>2</td>\n",
              "      <td>3</td>\n",
              "      <td>22615</td>\n",
              "      <td>5410</td>\n",
              "      <td>7198</td>\n",
              "      <td>3915</td>\n",
              "      <td>1777</td>\n",
              "      <td>5185</td>\n",
              "    </tr>\n",
              "    <tr>\n",
              "      <th>...</th>\n",
              "      <td>...</td>\n",
              "      <td>...</td>\n",
              "      <td>...</td>\n",
              "      <td>...</td>\n",
              "      <td>...</td>\n",
              "      <td>...</td>\n",
              "      <td>...</td>\n",
              "      <td>...</td>\n",
              "    </tr>\n",
              "    <tr>\n",
              "      <th>435</th>\n",
              "      <td>1</td>\n",
              "      <td>3</td>\n",
              "      <td>29703</td>\n",
              "      <td>12051</td>\n",
              "      <td>16027</td>\n",
              "      <td>13135</td>\n",
              "      <td>182</td>\n",
              "      <td>2204</td>\n",
              "    </tr>\n",
              "    <tr>\n",
              "      <th>436</th>\n",
              "      <td>1</td>\n",
              "      <td>3</td>\n",
              "      <td>39228</td>\n",
              "      <td>1431</td>\n",
              "      <td>764</td>\n",
              "      <td>4510</td>\n",
              "      <td>93</td>\n",
              "      <td>2346</td>\n",
              "    </tr>\n",
              "    <tr>\n",
              "      <th>437</th>\n",
              "      <td>2</td>\n",
              "      <td>3</td>\n",
              "      <td>14531</td>\n",
              "      <td>15488</td>\n",
              "      <td>30243</td>\n",
              "      <td>437</td>\n",
              "      <td>14841</td>\n",
              "      <td>1867</td>\n",
              "    </tr>\n",
              "    <tr>\n",
              "      <th>438</th>\n",
              "      <td>1</td>\n",
              "      <td>3</td>\n",
              "      <td>10290</td>\n",
              "      <td>1981</td>\n",
              "      <td>2232</td>\n",
              "      <td>1038</td>\n",
              "      <td>168</td>\n",
              "      <td>2125</td>\n",
              "    </tr>\n",
              "    <tr>\n",
              "      <th>439</th>\n",
              "      <td>1</td>\n",
              "      <td>3</td>\n",
              "      <td>2787</td>\n",
              "      <td>1698</td>\n",
              "      <td>2510</td>\n",
              "      <td>65</td>\n",
              "      <td>477</td>\n",
              "      <td>52</td>\n",
              "    </tr>\n",
              "  </tbody>\n",
              "</table>\n",
              "<p>440 rows × 8 columns</p>\n",
              "</div>\n",
              "      <button class=\"colab-df-convert\" onclick=\"convertToInteractive('df-e53efcdb-f933-4072-a59e-9ce0ff3188c4')\"\n",
              "              title=\"Convert this dataframe to an interactive table.\"\n",
              "              style=\"display:none;\">\n",
              "\n",
              "  <svg xmlns=\"http://www.w3.org/2000/svg\" height=\"24px\"viewBox=\"0 0 24 24\"\n",
              "       width=\"24px\">\n",
              "    <path d=\"M0 0h24v24H0V0z\" fill=\"none\"/>\n",
              "    <path d=\"M18.56 5.44l.94 2.06.94-2.06 2.06-.94-2.06-.94-.94-2.06-.94 2.06-2.06.94zm-11 1L8.5 8.5l.94-2.06 2.06-.94-2.06-.94L8.5 2.5l-.94 2.06-2.06.94zm10 10l.94 2.06.94-2.06 2.06-.94-2.06-.94-.94-2.06-.94 2.06-2.06.94z\"/><path d=\"M17.41 7.96l-1.37-1.37c-.4-.4-.92-.59-1.43-.59-.52 0-1.04.2-1.43.59L10.3 9.45l-7.72 7.72c-.78.78-.78 2.05 0 2.83L4 21.41c.39.39.9.59 1.41.59.51 0 1.02-.2 1.41-.59l7.78-7.78 2.81-2.81c.8-.78.8-2.07 0-2.86zM5.41 20L4 18.59l7.72-7.72 1.47 1.35L5.41 20z\"/>\n",
              "  </svg>\n",
              "      </button>\n",
              "\n",
              "\n",
              "\n",
              "    <div id=\"df-d8bfa223-be84-460a-8aff-07c62f7602df\">\n",
              "      <button class=\"colab-df-quickchart\" onclick=\"quickchart('df-d8bfa223-be84-460a-8aff-07c62f7602df')\"\n",
              "              title=\"Suggest charts.\"\n",
              "              style=\"display:none;\">\n",
              "\n",
              "<svg xmlns=\"http://www.w3.org/2000/svg\" height=\"24px\"viewBox=\"0 0 24 24\"\n",
              "     width=\"24px\">\n",
              "    <g>\n",
              "        <path d=\"M19 3H5c-1.1 0-2 .9-2 2v14c0 1.1.9 2 2 2h14c1.1 0 2-.9 2-2V5c0-1.1-.9-2-2-2zM9 17H7v-7h2v7zm4 0h-2V7h2v10zm4 0h-2v-4h2v4z\"/>\n",
              "    </g>\n",
              "</svg>\n",
              "      </button>\n",
              "    </div>\n",
              "\n",
              "<style>\n",
              "  .colab-df-quickchart {\n",
              "    background-color: #E8F0FE;\n",
              "    border: none;\n",
              "    border-radius: 50%;\n",
              "    cursor: pointer;\n",
              "    display: none;\n",
              "    fill: #1967D2;\n",
              "    height: 32px;\n",
              "    padding: 0 0 0 0;\n",
              "    width: 32px;\n",
              "  }\n",
              "\n",
              "  .colab-df-quickchart:hover {\n",
              "    background-color: #E2EBFA;\n",
              "    box-shadow: 0px 1px 2px rgba(60, 64, 67, 0.3), 0px 1px 3px 1px rgba(60, 64, 67, 0.15);\n",
              "    fill: #174EA6;\n",
              "  }\n",
              "\n",
              "  [theme=dark] .colab-df-quickchart {\n",
              "    background-color: #3B4455;\n",
              "    fill: #D2E3FC;\n",
              "  }\n",
              "\n",
              "  [theme=dark] .colab-df-quickchart:hover {\n",
              "    background-color: #434B5C;\n",
              "    box-shadow: 0px 1px 3px 1px rgba(0, 0, 0, 0.15);\n",
              "    filter: drop-shadow(0px 1px 2px rgba(0, 0, 0, 0.3));\n",
              "    fill: #FFFFFF;\n",
              "  }\n",
              "</style>\n",
              "\n",
              "    <script>\n",
              "      async function quickchart(key) {\n",
              "        const containerElement = document.querySelector('#' + key);\n",
              "        const charts = await google.colab.kernel.invokeFunction(\n",
              "            'suggestCharts', [key], {});\n",
              "      }\n",
              "    </script>\n",
              "\n",
              "      <script>\n",
              "\n",
              "function displayQuickchartButton(domScope) {\n",
              "  let quickchartButtonEl =\n",
              "    domScope.querySelector('#df-d8bfa223-be84-460a-8aff-07c62f7602df button.colab-df-quickchart');\n",
              "  quickchartButtonEl.style.display =\n",
              "    google.colab.kernel.accessAllowed ? 'block' : 'none';\n",
              "}\n",
              "\n",
              "        displayQuickchartButton(document);\n",
              "      </script>\n",
              "      <style>\n",
              "    .colab-df-container {\n",
              "      display:flex;\n",
              "      flex-wrap:wrap;\n",
              "      gap: 12px;\n",
              "    }\n",
              "\n",
              "    .colab-df-convert {\n",
              "      background-color: #E8F0FE;\n",
              "      border: none;\n",
              "      border-radius: 50%;\n",
              "      cursor: pointer;\n",
              "      display: none;\n",
              "      fill: #1967D2;\n",
              "      height: 32px;\n",
              "      padding: 0 0 0 0;\n",
              "      width: 32px;\n",
              "    }\n",
              "\n",
              "    .colab-df-convert:hover {\n",
              "      background-color: #E2EBFA;\n",
              "      box-shadow: 0px 1px 2px rgba(60, 64, 67, 0.3), 0px 1px 3px 1px rgba(60, 64, 67, 0.15);\n",
              "      fill: #174EA6;\n",
              "    }\n",
              "\n",
              "    [theme=dark] .colab-df-convert {\n",
              "      background-color: #3B4455;\n",
              "      fill: #D2E3FC;\n",
              "    }\n",
              "\n",
              "    [theme=dark] .colab-df-convert:hover {\n",
              "      background-color: #434B5C;\n",
              "      box-shadow: 0px 1px 3px 1px rgba(0, 0, 0, 0.15);\n",
              "      filter: drop-shadow(0px 1px 2px rgba(0, 0, 0, 0.3));\n",
              "      fill: #FFFFFF;\n",
              "    }\n",
              "  </style>\n",
              "\n",
              "      <script>\n",
              "        const buttonEl =\n",
              "          document.querySelector('#df-e53efcdb-f933-4072-a59e-9ce0ff3188c4 button.colab-df-convert');\n",
              "        buttonEl.style.display =\n",
              "          google.colab.kernel.accessAllowed ? 'block' : 'none';\n",
              "\n",
              "        async function convertToInteractive(key) {\n",
              "          const element = document.querySelector('#df-e53efcdb-f933-4072-a59e-9ce0ff3188c4');\n",
              "          const dataTable =\n",
              "            await google.colab.kernel.invokeFunction('convertToInteractive',\n",
              "                                                     [key], {});\n",
              "          if (!dataTable) return;\n",
              "\n",
              "          const docLinkHtml = 'Like what you see? Visit the ' +\n",
              "            '<a target=\"_blank\" href=https://colab.research.google.com/notebooks/data_table.ipynb>data table notebook</a>'\n",
              "            + ' to learn more about interactive tables.';\n",
              "          element.innerHTML = '';\n",
              "          dataTable['output_type'] = 'display_data';\n",
              "          await google.colab.output.renderOutput(dataTable, element);\n",
              "          const docLink = document.createElement('div');\n",
              "          docLink.innerHTML = docLinkHtml;\n",
              "          element.appendChild(docLink);\n",
              "        }\n",
              "      </script>\n",
              "    </div>\n",
              "  </div>\n"
            ]
          },
          "metadata": {}
        }
      ]
    },
    {
      "cell_type": "code",
      "source": [
        "# Mostra as informações do dataset (tipos de dados)\n",
        "print(mercearia.info())"
      ],
      "metadata": {
        "colab": {
          "base_uri": "https://localhost:8080/"
        },
        "id": "ljgtoPxfETyv",
        "outputId": "09e5ebda-9dc1-4402-b8f0-9d5b6a74963e"
      },
      "execution_count": null,
      "outputs": [
        {
          "output_type": "stream",
          "name": "stdout",
          "text": [
            "<class 'pandas.core.frame.DataFrame'>\n",
            "RangeIndex: 440 entries, 0 to 439\n",
            "Data columns (total 8 columns):\n",
            " #   Column               Non-Null Count  Dtype\n",
            "---  ------               --------------  -----\n",
            " 0   Canal de Venda       440 non-null    int64\n",
            " 1   Região               440 non-null    int64\n",
            " 2   Produtos Frescos     440 non-null    int64\n",
            " 3   Laticínios           440 non-null    int64\n",
            " 4   Produtos do Mercado  440 non-null    int64\n",
            " 5   Congelados           440 non-null    int64\n",
            " 6   Higiene & Limpeza    440 non-null    int64\n",
            " 7   Delicatessen         440 non-null    int64\n",
            "dtypes: int64(8)\n",
            "memory usage: 27.6 KB\n",
            "None\n"
          ]
        }
      ]
    },
    {
      "cell_type": "markdown",
      "source": [
        "A classe a ser usada no código é o Canal de Venda que pode ser: a. Horeca (Hotel/Restaurante/Café) – pessoa jurídica b. Varejo – pessoa física;\n",
        "Dados o local e as receitas dos produtos, qual será o canal de venda usado?"
      ],
      "metadata": {
        "id": "hdRDi6Bds0Ka"
      }
    },
    {
      "cell_type": "code",
      "source": [
        "# Preparação dos dados\n",
        "\n",
        "# Separação em bases de treino e teste (holdout)\n",
        "array = mercearia.values\n",
        "X = array[:,1:7] # atributos\n",
        "y = array[:,0] # classe (target) - a classe escolhida é o Canal de Vendas\n",
        "\n",
        "X_train, X_test, y_train, y_test = train_test_split(X, y, test_size=0.20, random_state=7) # faz a divisão\n",
        "\n",
        "# Criando os folds para a validação cruzada\n",
        "num_particoes = 10 # número de folds da validação cruzada\n",
        "kfold = KFold(n_splits=num_particoes, shuffle=True, random_state=7) # faz o particionamento em 10 folds"
      ],
      "metadata": {
        "id": "wfdsRUXku3mx"
      },
      "execution_count": null,
      "outputs": []
    },
    {
      "cell_type": "code",
      "source": [
        "# Modelagem\n",
        "\n",
        "# Definindo uma seed global para esta célula de código\n",
        "np.random.seed(7)\n",
        "\n",
        "# Listas para armazenar os modelos, os resultados e os nomes dos modelos\n",
        "models = []\n",
        "results = []\n",
        "names = []\n",
        "\n",
        "# Preparando os modelos e adicionando-os em uma lista\n",
        "models.append(('KNN', KNeighborsClassifier()))\n",
        "models.append(('CART', DecisionTreeClassifier()))\n",
        "models.append(('NB', GaussianNB()))\n",
        "models.append(('SVM', SVC()))\n",
        "\n",
        "# Avaliando um modelo por vez\n",
        "for name, model in models:\n",
        "  cv_results = cross_val_score(model, X_train, y_train, cv=kfold, scoring='accuracy')\n",
        "  results.append(cv_results)\n",
        "  names.append(name)\n",
        "  msg = \"%s: %f (%f)\" % (name, cv_results.mean(), cv_results.std()) # média e desvio padrão dos 10 resultados da validação cruzada\n",
        "  print(msg)\n",
        "\n",
        "# Boxplot de comparação dos modelos\n",
        "fig = plt.figure()\n",
        "fig.suptitle('Comparação da Acurácia dos Modelos')\n",
        "ax = fig.add_subplot(111)\n",
        "plt.boxplot(results)\n",
        "ax.set_xticklabels(names)\n",
        "plt.show()"
      ],
      "metadata": {
        "colab": {
          "base_uri": "https://localhost:8080/",
          "height": 551
        },
        "id": "ZQQtQJQywIsa",
        "outputId": "56bf328a-13ba-4562-e237-4106f478bf80"
      },
      "execution_count": null,
      "outputs": [
        {
          "output_type": "stream",
          "name": "stdout",
          "text": [
            "KNN: 0.900873 (0.056632)\n",
            "CART: 0.846746 (0.073195)\n",
            "NB: 0.889286 (0.041005)\n",
            "SVM: 0.897857 (0.058364)\n"
          ]
        },
        {
          "output_type": "display_data",
          "data": {
            "text/plain": [
              "<Figure size 640x480 with 1 Axes>"
            ],
            "image/png": "[encoded data removed]"
          },
          "metadata": {}
        }
      ]
    },
    {
      "cell_type": "markdown",
      "source": [
        "Na comparação da acurácia, verificamos que o algoritmo KNN foi o que apresentou a melhor média. Os demais algoritmos apresentaram, também, resultados próximos do resultado alcançado pelo KNN. Entendemos que isso seja devido à classe usada como target, uma vez que ela só apresenta dois valores possíveis."
      ],
      "metadata": {
        "id": "_bJ3jarqyGQ6"
      }
    },
    {
      "cell_type": "code",
      "source": [
        "# Criando um modelo com todo o conjunto de treino\n",
        "model = KNeighborsClassifier() # KNN\n",
        "model.fit(X_train, y_train)\n",
        "\n",
        "# Fazendo as predições com o conjunto de teste\n",
        "predictions = model.predict(X_test)\n",
        "\n",
        "# Estimando a acurácia no conjunto de teste\n",
        "print(accuracy_score(y_test, predictions))"
      ],
      "metadata": {
        "colab": {
          "base_uri": "https://localhost:8080/"
        },
        "id": "AFSyUcJcz-vI",
        "outputId": "14c58499-dc38-4302-aac2-9be0ab9e6886"
      },
      "execution_count": null,
      "outputs": [
        {
          "output_type": "stream",
          "name": "stdout",
          "text": [
            "0.875\n"
          ]
        }
      ]
    },
    {
      "cell_type": "markdown",
      "source": [
        "Considerando o cenário com todo o conjunto de teste, e testando somente com o algoritmo KNN vimos que a acurácia ficou menor do que a obtida com o algoritmo KNN na relação 80/20.\n",
        "A título de experiência, para verificarmos se o algoritmo KNN é mesmo o mais indicado, vamos executar o mesmo cenário com os demais algoritmos."
      ],
      "metadata": {
        "id": "BTgy1iO0168R"
      }
    },
    {
      "cell_type": "code",
      "source": [
        "model = GaussianNB() # Naive Bayes\n",
        "model.fit(X_train, y_train)\n",
        "\n",
        "# Fazendo as predições com o conjunto de teste\n",
        "predictions = model.predict(X_test)\n",
        "\n",
        "# Estimando a acurácia no conjunto de teste\n",
        "print(accuracy_score(y_test, predictions))"
      ],
      "metadata": {
        "colab": {
          "base_uri": "https://localhost:8080/"
        },
        "id": "CkNsATRU6n70",
        "outputId": "d7bbc9e0-8dfa-4f5f-93c4-3f6db4b8dda7"
      },
      "execution_count": null,
      "outputs": [
        {
          "output_type": "stream",
          "name": "stdout",
          "text": [
            "0.9431818181818182\n"
          ]
        }
      ]
    },
    {
      "cell_type": "code",
      "source": [
        "model = SVC() # SVM\n",
        "model.fit(X_train, y_train)\n",
        "\n",
        "# Fazendo as predições com o conjunto de teste\n",
        "predictions = model.predict(X_test)\n",
        "\n",
        "# Estimando a acurácia no conjunto de teste\n",
        "print(accuracy_score(y_test, predictions))"
      ],
      "metadata": {
        "colab": {
          "base_uri": "https://localhost:8080/"
        },
        "id": "sbOuYdS77P3B",
        "outputId": "a515612c-811f-4542-8a7d-64720003a7f1"
      },
      "execution_count": null,
      "outputs": [
        {
          "output_type": "stream",
          "name": "stdout",
          "text": [
            "0.8977272727272727\n"
          ]
        }
      ]
    },
    {
      "cell_type": "code",
      "source": [
        "model = DecisionTreeClassifier() # CART\n",
        "model.fit(X_train, y_train)\n",
        "\n",
        "# Fazendo as predições com o conjunto de teste\n",
        "predictions = model.predict(X_test)\n",
        "\n",
        "# Estimando a acurácia no conjunto de teste\n",
        "print(accuracy_score(y_test, predictions))"
      ],
      "metadata": {
        "colab": {
          "base_uri": "https://localhost:8080/"
        },
        "id": "k6PTXXrK8Rxo",
        "outputId": "7062452c-6e5c-40a6-880c-3d347a59967e"
      },
      "execution_count": null,
      "outputs": [
        {
          "output_type": "stream",
          "name": "stdout",
          "text": [
            "0.8068181818181818\n"
          ]
        }
      ]
    },
    {
      "cell_type": "markdown",
      "source": [
        "Nas comparações com os demais algoritmos, no cenário de teste, sem validação cruzada, vimos que o algoritmo Naive Bayes apresentou uma acurácia de 0,94 contra os 0,90 alcançada pelo algoritmo KNN no cenário 80/20. Isso é um indicador de que, talvez, o algoritmo KNN não seja o de melhor desempenho."
      ],
      "metadata": {
        "id": "lw-aVbQ47vx5"
      }
    },
    {
      "cell_type": "markdown",
      "source": [
        "ALGORITMOS DE MACHINE LEARNING PARA REGRESSÃO"
      ],
      "metadata": {
        "id": "dRQy97M4GTHK"
      }
    },
    {
      "cell_type": "markdown",
      "source": [
        "Vamos usar o mesmo dataset anterior testado onde se buscou a acurácia, para desta vez, se buscar o tamanho do erro entre o estimador e a saída desejada."
      ],
      "metadata": {
        "id": "_FIch3fMCeRR"
      }
    },
    {
      "cell_type": "code",
      "source": [
        "# Listas para armazenar os modelos, os resultados e os nomes dos modelos\n",
        "models = []\n",
        "results = []\n",
        "names = []\n",
        "\n",
        "# Preparando os modelos e adicionando-os em uma lista\n",
        "models.append(('LR', LinearRegression()))\n",
        "models.append(('Ridge', Ridge()))\n",
        "models.append(('Lasso', Lasso()))\n",
        "models.append(('KNN', KNeighborsRegressor()))\n",
        "models.append(('CART', DecisionTreeRegressor()))\n",
        "models.append(('SVM', SVR()))\n",
        "\n",
        "# Avaliando um modelo por vez\n",
        "for name, model in models:\n",
        "  cv_results = cross_val_score(model, X_train, y_train, cv=kfold, scoring='neg_mean_squared_error')\n",
        "  results.append(cv_results)\n",
        "  names.append(name)\n",
        "  # imprime MSE, desvio padrão do MSE e RMSE dos 10 resultados da validação cruzada\n",
        "  msg = \"%s: MSE %0.2f (%0.2f) - RMSE %0.2f\" % (name, abs(cv_results.mean()), cv_results.std(), np.sqrt(abs(cv_results.mean())))\n",
        "  print(msg)\n",
        "\n",
        "# Boxplot de comparação dos modelos\n",
        "fig = plt.figure()\n",
        "fig.suptitle('Comparação do MSE dos Modelos')\n",
        "ax = fig.add_subplot(111)\n",
        "plt.boxplot(results)\n",
        "ax.set_xticklabels(names)\n",
        "plt.show()"
      ],
      "metadata": {
        "colab": {
          "base_uri": "https://localhost:8080/",
          "height": 588
        },
        "id": "dVyZ1Jf6EZVS",
        "outputId": "8f3a3055-0104-4fd9-a7a0-143962a8a575"
      },
      "execution_count": null,
      "outputs": [
        {
          "output_type": "stream",
          "name": "stdout",
          "text": [
            "LR: MSE 0.14 (0.06) - RMSE 0.37\n",
            "Ridge: MSE 0.14 (0.06) - RMSE 0.37\n",
            "Lasso: MSE 0.14 (0.06) - RMSE 0.37\n",
            "KNN: MSE 0.08 (0.04) - RMSE 0.29\n",
            "CART: MSE 0.15 (0.07) - RMSE 0.39\n",
            "SVM: MSE 0.08 (0.03) - RMSE 0.28\n"
          ]
        },
        {
          "output_type": "display_data",
          "data": {
            "text/plain": [
              "<Figure size 640x480 with 1 Axes>"
            ],
            "image/png": "[encoded data removed]"
          },
          "metadata": {}
        }
      ]
    },
    {
      "cell_type": "markdown",
      "source": [
        "Para o caso dos problemas de Regressão (estimação) estamos buscando o erro. Assim, o melhor resultado deve ser aquele que possua o menor erro. Nos gráficos gerados, os melhores algoritmos são aqueles que apresentam os menores resultados. Assim, entendemos que o SVM apresentou o menor erro. Em que pese o KNN ter apresentado um MSE igual (estamos trabalhando com duas casas decimais) ao do SVM o RMSE deste é menor do que o daquele."
      ],
      "metadata": {
        "id": "MmrmozsrHsrb"
      }
    },
    {
      "cell_type": "markdown",
      "source": [
        "Vamos seguir com a mesma estratégia aplicada para os algoritmos de classificação.\n",
        "Iremos testar o SVM e o KNN no cenário com todo o conjunto de treino para verificar seu desempenho."
      ],
      "metadata": {
        "id": "lFVR-cTxLt7O"
      }
    },
    {
      "cell_type": "code",
      "source": [
        "# Criando um modelo com todo o conjunto de treino\n",
        "model = KNeighborsRegressor() # KNN\n",
        "model.fit(X_train, y_train)\n",
        "\n",
        "# Fazendo as predições com o conjunto de teste\n",
        "predictions = model.predict(X_test)\n",
        "\n",
        "# Estimando o MSE e o RMSE no conjunto de teste\n",
        "mse = mean_squared_error(y_test, predictions)\n",
        "print(\"MSE %0.2f\" % mse)\n",
        "print(\"RMSE %0.2f\" % np.sqrt(abs(mse)))"
      ],
      "metadata": {
        "colab": {
          "base_uri": "https://localhost:8080/"
        },
        "id": "RBplrFgTMH5z",
        "outputId": "657e5ac9-2e5f-43a1-9bb4-fed1e56c264a"
      },
      "execution_count": null,
      "outputs": [
        {
          "output_type": "stream",
          "name": "stdout",
          "text": [
            "MSE 0.08\n",
            "RMSE 0.29\n"
          ]
        }
      ]
    },
    {
      "cell_type": "code",
      "source": [
        "# Criando um modelo com todo o conjunto de treino\n",
        "model = SVR() # SVM\n",
        "model.fit(X_train, y_train)\n",
        "\n",
        "# Fazendo as predições com o conjunto de teste\n",
        "predictions = model.predict(X_test)\n",
        "\n",
        "# Estimando o MSE e o RMSE no conjunto de teste\n",
        "mse = mean_squared_error(y_test, predictions)\n",
        "print(\"MSE %0.2f\" % mse)\n",
        "print(\"RMSE %0.2f\" % np.sqrt(abs(mse)))"
      ],
      "metadata": {
        "colab": {
          "base_uri": "https://localhost:8080/"
        },
        "id": "e2zgvJtkOIVV",
        "outputId": "0c111053-e7be-4902-bf33-8178faa0a6ac"
      },
      "execution_count": null,
      "outputs": [
        {
          "output_type": "stream",
          "name": "stdout",
          "text": [
            "MSE 0.07\n",
            "RMSE 0.26\n"
          ]
        }
      ]
    },
    {
      "cell_type": "markdown",
      "source": [
        "Nesta nova rodada de testes, o SVM se mostrou, novamente, mais adequado que o KNN. A escolha mais adequada sob a ótica dos problemas de regressão é o SVM."
      ],
      "metadata": {
        "id": "bYO6TV1VP1Wb"
      }
    },
    {
      "cell_type": "markdown",
      "source": [
        "Recursos Avançados Aplicados ao Aprendizado Supervisionado"
      ],
      "metadata": {
        "id": "pYaww_nCijwV"
      }
    },
    {
      "cell_type": "code",
      "source": [
        "# Lista que armazenará os modelos\n",
        "models = []\n",
        "\n",
        "# Criando os modelos e adicionando-os na lista de modelos\n",
        "models.append(('LR', LogisticRegression(max_iter=200)))\n",
        "models.append(('KNN', KNeighborsClassifier()))\n",
        "models.append(('CART', DecisionTreeClassifier()))\n",
        "models.append(('NB', GaussianNB()))\n",
        "models.append(('SVM', SVC()))\n",
        "\n",
        "# Definindo os parâmetros do classificador base para o BaggingClassifier\n",
        "base = DecisionTreeClassifier()\n",
        "num_trees = 100\n",
        "max_features = 3\n",
        "\n",
        "# Criando os modelos para o VotingClassifier\n",
        "bases = []\n",
        "model1 = LogisticRegression(max_iter=200)\n",
        "bases.append(('logistic', model1))\n",
        "model2 = DecisionTreeClassifier()\n",
        "bases.append(('cart', model2))\n",
        "model3 = SVC()\n",
        "bases.append(('svm', model3))\n",
        "\n",
        "# Criando os ensembles e adicionando-os na lista de modelos\n",
        "models.append(('Bagging', BaggingClassifier(base_estimator=base, n_estimators=num_trees)))\n",
        "models.append(('RF', RandomForestClassifier(n_estimators=num_trees, max_features=max_features)))\n",
        "models.append(('ET', ExtraTreesClassifier(n_estimators=num_trees, max_features=max_features)))\n",
        "models.append(('Ada', AdaBoostClassifier(n_estimators=num_trees)))\n",
        "models.append(('GB', GradientBoostingClassifier(n_estimators=num_trees)))\n",
        "models.append(('Voting', VotingClassifier(bases)))\n",
        "\n",
        "# Listas para armazenar os resultados\n",
        "results = []\n",
        "names = []\n",
        "\n",
        "# Avaliação dos modelos\n",
        "for name, model in models:\n",
        "    cv_results = cross_val_score(model, X_train, y_train, cv=kfold, scoring='accuracy')\n",
        "    results.append(cv_results)\n",
        "    names.append(name)\n",
        "    msg = \"%s: %f (%f)\" % (name, cv_results.mean(), cv_results.std())\n",
        "    print(msg)\n",
        "\n",
        "# Boxplot de comparação dos modelos\n",
        "fig = plt.figure(figsize=(15,10))\n",
        "fig.suptitle('Comparação dos Modelos')\n",
        "ax = fig.add_subplot(111)\n",
        "plt.boxplot(results)\n",
        "ax.set_xticklabels(names)\n",
        "plt.show()"
      ],
      "metadata": {
        "colab": {
          "base_uri": "https://localhost:8080/",
          "height": 1000
        },
        "id": "3ufZkc-vjs22",
        "outputId": "fd87f1ce-8990-4f09-9c3f-a1b4afa1255c"
      },
      "execution_count": null,
      "outputs": [
        {
          "output_type": "stream",
          "name": "stdout",
          "text": [
            "LR: 0.880635 (0.043891)\n",
            "KNN: 0.900873 (0.056632)\n",
            "CART: 0.846905 (0.071538)\n",
            "NB: 0.889286 (0.041005)\n",
            "SVM: 0.897857 (0.058364)\n",
            "Bagging: 0.903413 (0.071217)\n",
            "RF: 0.912063 (0.069052)\n",
            "ET: 0.909286 (0.063212)\n",
            "Ada: 0.903492 (0.052717)\n",
            "GB: 0.912063 (0.062864)\n",
            "Voting: 0.897778 (0.057237)\n"
          ]
        },
        {
          "output_type": "display_data",
          "data": {
            "text/plain": [
              "<Figure size 1500x1000 with 1 Axes>"
            ],
            "image/png": "[encoded data removed]"
          },
          "metadata": {}
        }
      ]
    },
    {
      "cell_type": "markdown",
      "source": [
        "Nesta nova simulação, temos que os algoritmos utilizados alcançaram resultados bem próximos. De qualquer forma, dentro de nossa análise, o algoritmo GB foi levemente superior. Embora tenha tido uma acurácia igual ao algoritmo RF, seu desvio padrão foi menor."
      ],
      "metadata": {
        "id": "ouBw3voPeCSi"
      }
    },
    {
      "cell_type": "markdown",
      "source": [
        "Criação e avaliação de modelos: dados padronizados e normalizados"
      ],
      "metadata": {
        "id": "Wd1AeciOkCy6"
      }
    },
    {
      "cell_type": "markdown",
      "source": [
        "Vamos executar os modelos abaixo, utilizando Pipeline para criar e avaliar os modelos através da validação cruzada com os dados padronizados e normalizados (evitando o data leakage) e comparar o seu resultado com os modelos treinados com o dataset original,"
      ],
      "metadata": {
        "id": "C8_ew0Osu5tl"
      }
    },
    {
      "cell_type": "code",
      "source": [
        "np.random.seed(7) # definindo uma semente global para este bloco\n",
        "\n",
        "# Listas para armazenar os armazenar os pipelines e os resultados para todas as visões do dataset\n",
        "pipelines = []\n",
        "results = []\n",
        "names = []\n",
        "\n",
        "\n",
        "# Criando os elementos do pipeline\n",
        "\n",
        "# Algoritmos que serão utilizados\n",
        "reg_log = ('LR', LogisticRegression(max_iter=200))\n",
        "knn = ('KNN', KNeighborsClassifier())\n",
        "cart = ('CART', DecisionTreeClassifier())\n",
        "naive_bayes = ('NB', GaussianNB())\n",
        "svm = ('SVM', SVC())\n",
        "bagging = ('Bag', BaggingClassifier(base_estimator=base, n_estimators=num_trees))\n",
        "random_forest = ('RF', RandomForestClassifier(n_estimators=num_trees, max_features=max_features))\n",
        "extra_trees = ('ET', ExtraTreesClassifier(n_estimators=num_trees, max_features=max_features))\n",
        "adaboost = ('Ada', AdaBoostClassifier(n_estimators=num_trees))\n",
        "gradient_boosting = ('GB', GradientBoostingClassifier(n_estimators=num_trees))\n",
        "voting = ('Voting', VotingClassifier(bases))\n",
        "\n",
        "# Transformações que serão utilizadas\n",
        "standard_scaler = ('StandardScaler', StandardScaler())\n",
        "min_max_scaler = ('MinMaxScaler', MinMaxScaler())\n",
        "\n",
        "\n",
        "# Montando os pipelines\n",
        "\n",
        "# Dataset original\n",
        "pipelines.append(('LR-orig', Pipeline([reg_log])))\n",
        "pipelines.append(('KNN-orig', Pipeline([knn])))\n",
        "pipelines.append(('CART-orig', Pipeline([cart])))\n",
        "pipelines.append(('NB-orig', Pipeline([naive_bayes])))\n",
        "pipelines.append(('SVM-orig', Pipeline([svm])))\n",
        "pipelines.append(('Bag-orig', Pipeline([bagging])))\n",
        "pipelines.append(('RF-orig', Pipeline([random_forest])))\n",
        "pipelines.append(('ET-orig', Pipeline([extra_trees])))\n",
        "pipelines.append(('Ada-orig', Pipeline([adaboost])))\n",
        "pipelines.append(('GB-orig', Pipeline([gradient_boosting])))\n",
        "pipelines.append(('Vot-orig', Pipeline([voting])))\n",
        "\n",
        "# Dataset Padronizado\n",
        "pipelines.append(('LR-padr', Pipeline([standard_scaler, reg_log])))\n",
        "pipelines.append(('KNN-padr', Pipeline([standard_scaler, knn])))\n",
        "pipelines.append(('CART-padr', Pipeline([standard_scaler, cart])))\n",
        "pipelines.append(('NB-padr', Pipeline([standard_scaler, naive_bayes])))\n",
        "pipelines.append(('SVM-padr', Pipeline([standard_scaler, svm])))\n",
        "pipelines.append(('Bag-padr', Pipeline([standard_scaler, bagging])))\n",
        "pipelines.append(('RF-padr', Pipeline([standard_scaler, random_forest])))\n",
        "pipelines.append(('ET-padr', Pipeline([standard_scaler, extra_trees])))\n",
        "pipelines.append(('Ada-padr', Pipeline([standard_scaler, adaboost])))\n",
        "pipelines.append(('GB-padr', Pipeline([standard_scaler, gradient_boosting])))\n",
        "pipelines.append(('Vot-padr', Pipeline([standard_scaler, voting])))\n",
        "\n",
        "# Dataset Normalizado\n",
        "pipelines.append(('LR-norm', Pipeline([min_max_scaler, reg_log])))\n",
        "pipelines.append(('KNN-norm', Pipeline([min_max_scaler, knn])))\n",
        "pipelines.append(('CART-norm', Pipeline([min_max_scaler, cart])))\n",
        "pipelines.append(('NB-norm', Pipeline([min_max_scaler, naive_bayes])))\n",
        "pipelines.append(('SVM-norm', Pipeline([min_max_scaler, svm])))\n",
        "pipelines.append(('Bag-norm', Pipeline([min_max_scaler, bagging])))\n",
        "pipelines.append(('RF-norm', Pipeline([min_max_scaler, random_forest])))\n",
        "pipelines.append(('ET-norm', Pipeline([min_max_scaler, extra_trees])))\n",
        "pipelines.append(('Ada-norm', Pipeline([min_max_scaler, adaboost])))\n",
        "pipelines.append(('GB-norm', Pipeline([min_max_scaler, gradient_boosting])))\n",
        "pipelines.append(('Vot-norm', Pipeline([min_max_scaler, voting])))\n",
        "\n",
        "# Executando os pipelines\n",
        "for name, model in pipelines:\n",
        "    cv_results = cross_val_score(model, X_train, y_train, cv=kfold, scoring='accuracy')\n",
        "    results.append(cv_results)\n",
        "    names.append(name)\n",
        "    msg = \"%s: %.3f (%.3f)\" % (name, cv_results.mean(), cv_results.std()) # formatando para 3 casas decimais\n",
        "    print(msg)\n",
        "\n",
        "# Boxplot de comparação dos modelos\n",
        "fig = plt.figure(figsize=(25,6))\n",
        "fig.suptitle('Comparação dos Modelos - Dataset orginal, padronizado e normalizado')\n",
        "ax = fig.add_subplot(111)\n",
        "plt.boxplot(results)\n",
        "ax.set_xticklabels(names, rotation=90)\n",
        "plt.show()"
      ],
      "metadata": {
        "colab": {
          "base_uri": "https://localhost:8080/",
          "height": 1000
        },
        "id": "LGADCoJEjpDJ",
        "outputId": "0fa02908-3bb1-4bb4-dfde-2ec17d74f2f9"
      },
      "execution_count": null,
      "outputs": [
        {
          "output_type": "stream",
          "name": "stdout",
          "text": [
            "LR-orig: 0.881 (0.044)\n",
            "KNN-orig: 0.901 (0.057)\n",
            "CART-orig: 0.847 (0.073)\n",
            "NB-orig: 0.889 (0.041)\n",
            "SVM-orig: 0.898 (0.058)\n",
            "Bag-orig: 0.909 (0.069)\n",
            "RF-orig: 0.915 (0.067)\n",
            "ET-orig: 0.909 (0.063)\n",
            "Ada-orig: 0.903 (0.053)\n",
            "GB-orig: 0.912 (0.064)\n",
            "Vot-orig: 0.895 (0.056)\n",
            "LR-padr: 0.898 (0.048)\n",
            "KNN-padr: 0.895 (0.057)\n",
            "CART-padr: 0.852 (0.075)\n",
            "NB-padr: 0.889 (0.041)\n",
            "SVM-padr: 0.912 (0.050)\n",
            "Bag-padr: 0.906 (0.079)\n",
            "RF-padr: 0.912 (0.069)\n",
            "ET-padr: 0.909 (0.063)\n",
            "Ada-padr: 0.903 (0.053)\n",
            "GB-padr: 0.912 (0.059)\n",
            "Vot-padr: 0.909 (0.049)\n",
            "LR-norm: 0.813 (0.069)\n",
            "KNN-norm: 0.901 (0.057)\n",
            "CART-norm: 0.847 (0.078)\n",
            "NB-norm: 0.889 (0.041)\n",
            "SVM-norm: 0.875 (0.050)\n",
            "Bag-norm: 0.909 (0.072)\n",
            "RF-norm: 0.918 (0.068)\n",
            "ET-norm: 0.915 (0.061)\n",
            "Ada-norm: 0.903 (0.053)\n",
            "GB-norm: 0.909 (0.061)\n",
            "Vot-norm: 0.870 (0.064)\n"
          ]
        },
        {
          "output_type": "display_data",
          "data": {
            "text/plain": [
              "<Figure size 2500x600 with 1 Axes>"
            ],
            "image/png": "[encoded data removed]"
          },
          "metadata": {}
        }
      ]
    },
    {
      "cell_type": "markdown",
      "source": [
        "Dentre os valores obtidos, o que apresentou o melhor resultado foi o algoritmo Random Forest que é um ensemble do tipo Bagging. Seu resultado com o conjunto original obteve uma acurácia de 0,915. Contudo quando aplicado aos dados normalizados, conseguiu alcançar um resultado ainda melhor: 0,918.\n",
        "Conforme explicado pela profa. Escovedo, há inúmeras possibilidades, ainda abertas, para se buscar um melhor resultado. Entendemos, que para o atual MVP, o resultado é satisfatório."
      ],
      "metadata": {
        "id": "6QtZ6wPKvbTI"
      }
    },
    {
      "cell_type": "markdown",
      "source": [
        "Finalização do Modelo"
      ],
      "metadata": {
        "id": "xfIPwmVJzwcj"
      }
    },
    {
      "cell_type": "code",
      "source": [
        "# Avaliação do modelo com o conjunto de testes\n",
        "\n",
        "# Preparação do modelo\n",
        "scaler = StandardScaler().fit(X_train) # ajuste do scaler com o conjunto de treino\n",
        "rescaledX = scaler.transform(X_train) # aplicação da padronização no conjunto de treino\n",
        "model = RandomForestClassifier(n_estimators=num_trees, max_features=max_features)\n",
        "model.fit(rescaledX, y_train)\n",
        "\n",
        "# Estimativa da acurácia no conjunto de teste\n",
        "rescaledTestX = scaler.transform(X_test) # aplicação da padronização no conjunto de teste\n",
        "predictions = model.predict(rescaledTestX)\n",
        "print(accuracy_score(y_test, predictions))"
      ],
      "metadata": {
        "colab": {
          "base_uri": "https://localhost:8080/"
        },
        "id": "YatzM13Qz6G6",
        "outputId": "89c9bdd2-4f19-4b38-c9f4-795df11de850"
      },
      "execution_count": null,
      "outputs": [
        {
          "output_type": "stream",
          "name": "stdout",
          "text": [
            "0.9090909090909091\n"
          ]
        }
      ]
    },
    {
      "cell_type": "markdown",
      "source": [
        "Por meio do conjunto de teste, verificamos que alcançamos acurácia de 90,9% em dados não vistos. Esse resultado não foi melhor do que a nossa avaliação anterior do Random Forest, que alcançou acurácia média de 91,8% (conjunto normalizado)."
      ],
      "metadata": {
        "id": "cRsLDyxn0tmb"
      }
    }
  ]
}