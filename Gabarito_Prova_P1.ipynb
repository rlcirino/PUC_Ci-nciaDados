{
  "nbformat": 4,
  "nbformat_minor": 0,
  "metadata": {
    "colab": {
      "provenance": [],
      "authorship_tag": "ABX9TyMtGCtJdykdqWwBvaLm9rvZ"
    },
    "kernelspec": {
      "name": "python3",
      "display_name": "Python 3"
    },
    "language_info": {
      "name": "python"
    }
  },
  "cells": [
    {
      "cell_type": "markdown",
      "source": [
        "Gabarito da P1 de IPD\n",
        "\n",
        "1a QUESTÃO: O que é informática: É a ciência que estuda o tratamento automatizado de dados."
      ],
      "metadata": {
        "id": "NZ6B19PPIDk0"
      }
    },
    {
      "cell_type": "code",
      "execution_count": null,
      "metadata": {
        "colab": {
          "base_uri": "https://localhost:8080/"
        },
        "id": "lLmdljlvIBVM",
        "outputId": "90c1dafc-7eaa-4012-ffd3-5db9bcaf98a8"
      },
      "outputs": [
        {
          "output_type": "stream",
          "name": "stdout",
          "text": [
            "2550\n"
          ]
        }
      ],
      "source": [
        "# 2a QUESTÃO : Crie um algoritmo que calcule a soma dos primeiros 50 números pares. Os primeiros números pares sao 2, 4, 6,...\n",
        "\n",
        "soma = 0\n",
        "for i in range (2, 101, 2):\n",
        "  soma+= i\n",
        "\n",
        "print (soma)"
      ]
    },
    {
      "cell_type": "code",
      "source": [
        "# 3a Questão: Crie um programa Python que leia um número N e diga se ele é primo.\n",
        "\n",
        "n = int (input('Entre com o número: '))\n",
        "primo = 0\n",
        "for i in range (2, n):\n",
        "  if n%i == 0:\n",
        "    primo+=1\n",
        "\n",
        "if (primo == 0):\n",
        "  print ('O número lido é primo.')\n",
        "else:\n",
        "  print ('O número lido NÃO é primo')\n"
      ],
      "metadata": {
        "colab": {
          "base_uri": "https://localhost:8080/"
        },
        "id": "IJhQd9NnJ2K-",
        "outputId": "35743c17-2660-4902-bf90-ca11887fc3bf"
      },
      "execution_count": null,
      "outputs": [
        {
          "output_type": "stream",
          "name": "stdout",
          "text": [
            "Entre com o número: 13\n",
            "O número lido é primo.\n"
          ]
        }
      ]
    },
    {
      "cell_type": "code",
      "source": [
        "# Crie um algoritmo que leia um número e diga se ele é um número perfeito. Um número é perfeito quando a soma de seus divisores é igual ao próprio número. Ex.: 6 = 1+2+3\n",
        "\n",
        "soma = 0\n",
        "n = int(input('Entre com o número: '))\n",
        "for i in range (1, n):\n",
        "  if n%i == 0:\n",
        "    soma+=i\n",
        "if n == soma:\n",
        "  print ('O número lido é perfeito.')\n",
        "else:\n",
        "  print ('O número lido NÃO é perfeito')\n"
      ],
      "metadata": {
        "colab": {
          "base_uri": "https://localhost:8080/"
        },
        "id": "i8nYr9_OLTIf",
        "outputId": "66bb1002-235f-4f14-f46d-c0e0d7d4f573"
      },
      "execution_count": null,
      "outputs": [
        {
          "output_type": "stream",
          "name": "stdout",
          "text": [
            "Entre com o número: 6\n",
            "O número lido é perfeito.\n"
          ]
        }
      ]
    }
  ]
}